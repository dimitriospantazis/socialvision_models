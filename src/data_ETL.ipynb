{
 "cells": [
  {
   "cell_type": "markdown",
   "metadata": {},
   "source": [
    "### Data ETL"
   ]
  },
  {
   "cell_type": "markdown",
   "metadata": {},
   "source": [
    "Load video annotations"
   ]
  },
  {
   "cell_type": "code",
   "execution_count": 21,
   "metadata": {},
   "outputs": [],
   "source": [
    "import os\n",
    "import pandas as pd\n",
    "import numpy as np\n",
    "\n",
    "# Specify the directory path\n",
    "project_dir = os.path.dirname(os.getcwd())\n",
    "annotations_file = os.path.join(project_dir,'data','annotations','video_annotations_combined_43392.csv')  # Change to your desired directory\n",
    "\n",
    "# Read the annotations file\n",
    "annotations = pd.read_csv(annotations_file)"
   ]
  },
  {
   "cell_type": "markdown",
   "metadata": {},
   "source": [
    "Locate annotated video files."
   ]
  },
  {
   "cell_type": "code",
   "execution_count": 20,
   "metadata": {},
   "outputs": [
    {
     "name": "stdout",
     "output_type": "stream",
     "text": [
      "Found 43392 videos\n"
     ]
    }
   ],
   "source": [
    "import sys\n",
    "sys.path.append('./utils')\n",
    "from video_utils import find_videos\n",
    "\n",
    "\n",
    "# Video directory\n",
    "video_dir = r'D:\\MYPROJECTS_GITHUB2\\socialvision_GPT_annotations\\videos'\n",
    "\n",
    "# Find the videos that are in the annotations file\n",
    "matched_videos = find_videos(video_dir, target_names=list(annotations['video_name']))\n",
    "print(f'Found {len(matched_videos)} videos')   # Found 43392 videos"
   ]
  },
  {
   "cell_type": "markdown",
   "metadata": {},
   "source": [
    "Process video files to extract frames, apply transformation per frame, and save in a tensor of shape num_frames, channels, height, width."
   ]
  },
  {
   "cell_type": "code",
   "execution_count": 18,
   "metadata": {},
   "outputs": [
    {
     "name": "stderr",
     "output_type": "stream",
     "text": [
      "Processing videos:   3%|▎         | 1125/43407 [06:50<3:51:58,  3.04it/s]"
     ]
    },
    {
     "name": "stdout",
     "output_type": "stream",
     "text": [
      "Error processing giphy-QpOzTmajZHVHq_6.mp4: Number of frames requested exceeds total frames in the video.\n"
     ]
    },
    {
     "name": "stderr",
     "output_type": "stream",
     "text": [
      "Processing videos:  12%|█▏        | 5028/43407 [37:51<3:32:23,  3.01it/s] "
     ]
    },
    {
     "name": "stdout",
     "output_type": "stream",
     "text": [
      "Error processing giphy-3o7aCRNEh2B8SF9XgI_0.mp4: Number of frames requested exceeds total frames in the video.\n"
     ]
    },
    {
     "name": "stderr",
     "output_type": "stream",
     "text": [
      "Processing videos:  12%|█▏        | 5046/43407 [37:57<3:25:34,  3.11it/s]"
     ]
    },
    {
     "name": "stdout",
     "output_type": "stream",
     "text": [
      "Error processing giphy-5hWlT5RB9rCmY_8.mp4: Number of frames requested exceeds total frames in the video.\n"
     ]
    },
    {
     "name": "stderr",
     "output_type": "stream",
     "text": [
      "Processing videos:  21%|██        | 9043/43407 [1:08:24<3:12:42,  2.97it/s]"
     ]
    },
    {
     "name": "stdout",
     "output_type": "stream",
     "text": [
      "Error processing giphy-3o6YgbEqmcj0lLgA4E_1.mp4: Number of frames requested exceeds total frames in the video.\n"
     ]
    },
    {
     "name": "stderr",
     "output_type": "stream",
     "text": [
      "Processing videos:  26%|██▌       | 11120/43407 [1:24:12<2:50:41,  3.15it/s]"
     ]
    },
    {
     "name": "stdout",
     "output_type": "stream",
     "text": [
      "Error processing giphy-l41JSMS1GvJNtxkpW_1.mp4: Number of frames requested exceeds total frames in the video.\n"
     ]
    },
    {
     "name": "stderr",
     "output_type": "stream",
     "text": [
      "Processing videos:  35%|███▍      | 15135/43407 [1:54:53<2:39:30,  2.95it/s]"
     ]
    },
    {
     "name": "stdout",
     "output_type": "stream",
     "text": [
      "Error processing giphy-rfPyDNZSMj1HG_1.mp4: Number of frames requested exceeds total frames in the video.\n"
     ]
    },
    {
     "name": "stderr",
     "output_type": "stream",
     "text": [
      "Processing videos:  40%|███▉      | 17231/43407 [2:11:09<2:39:54,  2.73it/s]"
     ]
    },
    {
     "name": "stdout",
     "output_type": "stream",
     "text": [
      "Error processing giphy-Rv6XPWJ2v5Jza_2.mp4: Number of frames requested exceeds total frames in the video.\n"
     ]
    },
    {
     "name": "stderr",
     "output_type": "stream",
     "text": [
      "Processing videos:  44%|████▎     | 18983/43407 [2:24:55<2:43:06,  2.50it/s]"
     ]
    },
    {
     "name": "stdout",
     "output_type": "stream",
     "text": [
      "Error processing giphy-13BOxQjeKNc3oQ_0.mp4: Number of frames requested exceeds total frames in the video.\n"
     ]
    },
    {
     "name": "stderr",
     "output_type": "stream",
     "text": [
      "Processing videos:  44%|████▍     | 19152/43407 [2:25:53<2:32:22,  2.65it/s]"
     ]
    },
    {
     "name": "stdout",
     "output_type": "stream",
     "text": [
      "Error processing giphy-uFhCBOsZmLeTK_4.mp4: Number of frames requested exceeds total frames in the video.\n"
     ]
    },
    {
     "name": "stderr",
     "output_type": "stream",
     "text": [
      "Processing videos:  48%|████▊     | 21008/43407 [2:40:48<1:55:39,  3.23it/s]"
     ]
    },
    {
     "name": "stdout",
     "output_type": "stream",
     "text": [
      "Error processing giphy-3oEhn1VqfMo6pdl160_0.mp4: Number of frames requested exceeds total frames in the video.\n"
     ]
    },
    {
     "name": "stderr",
     "output_type": "stream",
     "text": [
      "Processing videos:  66%|██████▋   | 28773/43407 [3:38:57<1:27:26,  2.79it/s]"
     ]
    },
    {
     "name": "stdout",
     "output_type": "stream",
     "text": [
      "Error processing giphy-xTgeISrYQsgsw4Yy0o_1.mp4: Number of frames requested exceeds total frames in the video.\n"
     ]
    },
    {
     "name": "stderr",
     "output_type": "stream",
     "text": [
      "Processing videos:  75%|███████▌  | 32635/43407 [4:08:51<1:03:43,  2.82it/s]"
     ]
    },
    {
     "name": "stdout",
     "output_type": "stream",
     "text": [
      "Error processing giphy-J3cvv41ASYUso_3.mp4: Number of frames requested exceeds total frames in the video.\n"
     ]
    },
    {
     "name": "stderr",
     "output_type": "stream",
     "text": [
      "Processing videos:  75%|███████▌  | 32677/43407 [4:09:05<1:02:42,  2.85it/s]"
     ]
    },
    {
     "name": "stdout",
     "output_type": "stream",
     "text": [
      "Error processing giphy-NxAeBmGJwMiGI_0.mp4: Number of frames requested exceeds total frames in the video.\n"
     ]
    },
    {
     "name": "stderr",
     "output_type": "stream",
     "text": [
      "Processing videos:  78%|███████▊  | 33686/43407 [4:17:59<39:06,  4.14it/s]  "
     ]
    },
    {
     "name": "stdout",
     "output_type": "stream",
     "text": [
      "Error processing flickr-9-0-6-8-5-0-6-0-21090685060_33.mp4: Number of frames requested exceeds total frames in the video.\n"
     ]
    },
    {
     "name": "stderr",
     "output_type": "stream",
     "text": [
      "Processing videos:  84%|████████▍ | 36525/43407 [4:38:59<41:38,  2.75it/s]  "
     ]
    },
    {
     "name": "stdout",
     "output_type": "stream",
     "text": [
      "Error processing giphy-Jixcw12a5blRu_3.mp4: Number of frames requested exceeds total frames in the video.\n"
     ]
    },
    {
     "name": "stderr",
     "output_type": "stream",
     "text": [
      "Processing videos: 100%|██████████| 43407/43407 [5:30:56<00:00,  2.19it/s]  \n"
     ]
    }
   ],
   "source": [
    "import torch\n",
    "from tqdm import tqdm\n",
    "from models import load_transform\n",
    "from video_utils import extract_frames\n",
    "\n",
    "# Specify how many frames to extract from each video\n",
    "num_frames = 16\n",
    "\n",
    "# Load transformation pipeline\n",
    "transform = load_transform()\n",
    "\n",
    "# Create an output directory for storing result files\n",
    "output_dir = os.path.join(project_dir,'data','processed_videos')\n",
    "os.makedirs(output_dir, exist_ok=True)\n",
    "\n",
    "# Iterate through each video in `matched_videos`\n",
    "for video in tqdm(matched_videos, desc=\"Processing videos\"):\n",
    "    # Construct an output filename based on the video name\n",
    "    video_name = os.path.basename(video)\n",
    "    base_name, _ = os.path.splitext(video_name)\n",
    "    output_path = os.path.join(output_dir, f\"{base_name}.pt\")\n",
    "\n",
    "    # Skip processing if the output file already exists\n",
    "    if os.path.exists(output_path):\n",
    "        # print(f\"Skipping {video_name} (already processed).\")\n",
    "        continue\n",
    "\n",
    "    # Extract frames from video\n",
    "    try:\n",
    "        frames = extract_frames(video, num_frames=num_frames)\n",
    "    except Exception as e:\n",
    "        print(f\"Error processing {video_name}: {e}\")\n",
    "        continue\n",
    "    \n",
    "    # Apply transformations to each frame\n",
    "    frames = [transform(frame) for frame in frames]\n",
    "\n",
    "    # Stack frames to create a tensor of shape [num_frames, channels, height, width]\n",
    "    video_tensor = torch.stack(frames, dim=1)\n",
    "\n",
    "    # Save the tensor to a .pt file\n",
    "    torch.save(video_tensor, output_path)"
   ]
  }
 ],
 "metadata": {
  "kernelspec": {
   "display_name": "MiTmodels_venv",
   "language": "python",
   "name": "python3"
  },
  "language_info": {
   "codemirror_mode": {
    "name": "ipython",
    "version": 3
   },
   "file_extension": ".py",
   "mimetype": "text/x-python",
   "name": "python",
   "nbconvert_exporter": "python",
   "pygments_lexer": "ipython3",
   "version": "3.12.6"
  }
 },
 "nbformat": 4,
 "nbformat_minor": 2
}
